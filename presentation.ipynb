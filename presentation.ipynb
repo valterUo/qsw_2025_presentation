{
 "cells": [
  {
   "cell_type": "markdown",
   "id": "d2afff11-7ae8-4969-8008-919b313edad0",
   "metadata": {
    "editable": true,
    "slideshow": {
     "slide_type": "slide"
    },
    "tags": []
   },
   "source": [
    "# Perspectives on Utilization of Measurements in Quantum Algorithms\n",
    "<center>\n",
    "<div style=\"font-family: Georgia, serif; margin: 1em 0;\">\n",
    "  <ul style=\"list-style-type: none; padding: 0;\">\n",
    "    <li style=\"margin: 0.2em 0; font-size: 1.2em;\">Valter Uotila, Ilmo Salmenperä,</li>\n",
    "    <li style=\"margin: 0.2em 0; font-size: 1.2em;\">Leo Becker, Arianne Meijer-van de Griend,</li>\n",
    "      <li style=\"margin: 0.2em 0; font-size: 1.2em;\">Aakash Ravindra Shinde, Jukka K. Nurminen</li>\n",
    "  </ul>\n",
    "</div>\n",
    "</center>\n",
    "\n",
    "<center>\n",
    "<img src=\"https://upload.wikimedia.org/wikipedia/en/thumb/8/84/University_of_Helsinki.svg/1280px-University_of_Helsinki.svg.png\" alt=\"HY-logo\" width=\"200\" height=\"200\">\n",
    "</center>"
   ]
  },
  {
   "cell_type": "markdown",
   "id": "54f676d3-6566-46de-ab04-57dcbafbc066",
   "metadata": {
    "editable": true,
    "slideshow": {
     "slide_type": "slide"
    },
    "tags": []
   },
   "source": [
    "## Outline of this presentation\n",
    "\n",
    "1. Introduction and motivation\n",
    "2. Categories for measurement operations with code examples\n",
    "   1. Static quantum circuits (Code demo: Recovering a density matrix)\n",
    "   2. Dynamic quantum circuits (Code demo: Toffoli gate teleportation)\n",
    "   3. Measurements as solutions to challenges in NISQ devices\n",
    "3. Conclusion"
   ]
  },
  {
   "cell_type": "markdown",
   "id": "91e9c69d-1587-4114-a9cc-5ddcfc7cf8c5",
   "metadata": {
    "editable": true,
    "slideshow": {
     "slide_type": "slide"
    },
    "tags": []
   },
   "source": [
    "## Motivation\n",
    "\n",
    "1. There are no previous works which would survey the role of measurements in practical quantum algorithms and emphasize their key role in the algorithms\n",
    "2. Measurements are not necessarily the key contribution in many papers, although many algorithms utilize clever measurement schemes. Building a ''measurement toolbox'' might help us choose the best measurement scheme for algorithms or try something new."
   ]
  },
  {
   "cell_type": "markdown",
   "id": "6bf5d6b5-4d03-406f-a9f2-23e74434c986",
   "metadata": {
    "editable": true,
    "slideshow": {
     "slide_type": "slide"
    },
    "tags": []
   },
   "source": [
    "## Scope\n",
    "This paper contains only a subset of measurement operation use cases. For example, we left out:\n",
    "1. Error-correcting codes\n",
    "2. Measurement-based quantum computing\n",
    "3. Hidden parameter extraction"
   ]
  },
  {
   "cell_type": "markdown",
   "id": "62ae27e3-8539-4a68-9f0a-fd867eebc864",
   "metadata": {
    "editable": true,
    "slideshow": {
     "slide_type": "slide"
    },
    "tags": []
   },
   "source": [
    "## Introduction\n",
    "\n",
    "\n",
    "| **Measurement theory**     | **Properties**                                                                                                                                         | **Quantum states** | **Properties**                                                                                      |\n",
    "|---------------------------|----------------------------------------------------------------------------------------------------------------------------------------------------------|--------------------|------------------------------------------------------------------------------------------------------|\n",
    "| **PVM measurements**      | Idempotent: $P_i^2 = P_i$  <br> Orthogonality: $P_i P_j = \\delta_{ij}P_i$ <br> Completeness: $\\sum_i P_i = I$                                            | **Pure states**    | Idempotent: $\\rho^2 = \\rho$ <br> Projection onto 1D subspace <br> Normalization: $\\text{Tr}(\\rho) = 1$ |\n",
    "| **POVM measurements**     | Positive operators $E_i \\geq 0$ <br> Completeness: $\\sum_i E_i = I$ <br> Not necessarily orthogonal <br> Generalization of PVMs                          | **Mixed states**   | Positive operators $\\rho \\geq 0$ <br> Normalization: $\\text{Tr}(\\rho) = 1$ <br> Not necessarily pure <br> Generalization of pure states |"
   ]
  },
  {
   "cell_type": "markdown",
   "id": "c60debde-0b07-4b34-beca-c012c1791977",
   "metadata": {
    "editable": true,
    "slideshow": {
     "slide_type": "slide"
    },
    "tags": []
   },
   "source": [
    "## Category 1: Static quantum circuits\n",
    "\n",
    "Measure the whole state so that the measurement outcomes do not affect the current circuit execution.\n",
    "\n",
    "1. Fundamental quantum algorithms\n",
    "2. Variational quantum computing\n",
    "   1. Quantum optimization: optimiziation problems are measurements\n",
    "   2. Quantum machine learning: global observables lead to barren plateaus\n",
    "   3. Quantum machine learning: measurements are a source of non-linearity\n",
    "3. Classical machine learning for measurement optimization\n",
    "\n",
    "The difference in how we measure, comparing the fundamental quantum algorithms and variational quantum algorithms, is interesting."
   ]
  },
  {
   "cell_type": "markdown",
   "id": "ad13e7db-c4c7-4700-831b-a73b119bce35",
   "metadata": {
    "editable": true,
    "slideshow": {
     "slide_type": "slide"
    },
    "tags": []
   },
   "source": [
    "## Demonstration on Informationally Complete Positive-Valued Operator Measures (IC-POVM)\n",
    "\n",
    "Consider the following set of POVMs\n",
    "\\begin{align}\n",
    "    E_{+z} &= p_z |0\\rangle\\langle0|, &\\quad E_{-z} &= p_z |1\\rangle\\langle1|, \\\\\n",
    "    E_{\\pm x} &= p_x | \\pm \\rangle \\langle \\pm |, &\\quad E_{\\pm y} &= p_y | \\pm i \\rangle \\langle \\pm i |,\n",
    "\\end{align}\n",
    "where $p_{z}, p_{x}, p_{y} \\in [0, 1]$ so that $p_{z} + p_{x} + p_{y} = 1$."
   ]
  },
  {
   "cell_type": "markdown",
   "id": "3f8e2455-2b25-43da-9b2d-c3d4246c4a7b",
   "metadata": {
    "editable": true,
    "slideshow": {
     "slide_type": "slide"
    },
    "tags": []
   },
   "source": [
    "The reconstruction of the state is done with so-called dual operators, which are given by\n",
    "\\begin{align}\n",
    "    D_{\\pm \\alpha} = \\frac{I \\pm \\sigma_{\\alpha}/p_{\\alpha}}{2},\n",
    "\\end{align}\n",
    "where $\\sigma_{\\alpha}$ is the corresponding Pauli matrix, $p_{\\alpha}$ is the probability and $\\alpha \\in \\left\\{x, y, z \\right\\}$.\n",
    "\n",
    "With the dual operators, the reconstructed state $\\rho$ has the following form\n",
    "\\begin{align}\n",
    "    \\rho = \\sum_{k \\in I} \\mathrm{Tr}(\\rho E_k) D_k.\n",
    "\\end{align}"
   ]
  },
  {
   "cell_type": "code",
   "execution_count": 1,
   "id": "906e4191-a5bc-4d9e-92b0-0eab6d67f6f5",
   "metadata": {
    "editable": true,
    "slideshow": {
     "slide_type": "slide"
    },
    "tags": []
   },
   "outputs": [],
   "source": [
    "%matplotlib inline\n",
    "import matplotlib.pyplot as plt\n",
    "plt.rcParams['figure.figsize'] = [10, 8]\n",
    "\n",
    "from qiskit_aer import Aer\n",
    "from qiskit_ibm_runtime.fake_provider import FakeManilaV2\n",
    "\n",
    "backend = Aer.get_backend('statevector_simulator') \n",
    "#backend = FakeManilaV2()"
   ]
  },
  {
   "cell_type": "code",
   "execution_count": 2,
   "id": "921a0a99-40ce-4b3d-82e3-0f85378d706f",
   "metadata": {
    "editable": true,
    "slideshow": {
     "slide_type": "slide"
    },
    "tags": []
   },
   "outputs": [
    {
     "data": {
      "image/png": "[encoded data removed]",
      "text/plain": [
       "<Figure size 956.385x451.5 with 1 Axes>"
      ]
     },
     "metadata": {},
     "output_type": "display_data"
    }
   ],
   "source": [
    "from qiskit.circuit.random import random_circuit\n",
    "\n",
    "n_qubits = 5\n",
    "circuit = random_circuit(n_qubits, 5, measure=False)\n",
    "fig = circuit.draw(output='mpl')\n",
    "plt.show()"
   ]
  },
  {
   "cell_type": "code",
   "execution_count": 3,
   "id": "4e48d636-ac44-4d65-984a-aaf379ce2cac",
   "metadata": {
    "editable": true,
    "slideshow": {
     "slide_type": "slide"
    },
    "tags": []
   },
   "outputs": [
    {
     "data": {
      "image/png": "[encoded data removed]",
      "text/plain": [
       "<Figure size 1207.22x451.5 with 1 Axes>"
      ]
     },
     "metadata": {},
     "output_type": "display_data"
    }
   ],
   "source": [
    "from qiskit.transpiler.preset_passmanagers import generate_preset_pass_manager\n",
    "\n",
    "pass_manager = generate_preset_pass_manager(backend=backend, optimization_level=1)\n",
    "transpiled_circuit = pass_manager.run(circuit)\n",
    "fig = transpiled_circuit.draw(output='mpl')\n",
    "plt.show()"
   ]
  },
  {
   "cell_type": "code",
   "execution_count": 4,
   "id": "eff6bc23-efd2-47e2-b8de-38e723747ebf",
   "metadata": {
    "editable": true,
    "slideshow": {
     "slide_type": "slide"
    },
    "tags": []
   },
   "outputs": [
    {
     "name": "stdout",
     "output_type": "stream",
     "text": [
      "Noisy expectation value:  -2.8214999999999995\n"
     ]
    }
   ],
   "source": [
    "from povm_toolbox.sampler import POVMSampler \n",
    "from povm_toolbox.library import ClassicalShadows\n",
    "from povm_toolbox.post_processor import POVMPostProcessor\n",
    "\n",
    "from qiskit.quantum_info import SparsePauliOp\n",
    "from qiskit_ibm_runtime import SamplerV2 as Sampler\n",
    "\n",
    "sampler = Sampler(mode=backend)\n",
    "povm_sampler = POVMSampler(sampler=sampler)\n",
    "measurement = ClassicalShadows(num_qubits=n_qubits, seed=0)\n",
    "\n",
    "job = povm_sampler.run([circuit], shots=2000, povm=measurement, pass_manager=pass_manager)\n",
    "pub_result = job.result()[0]\n",
    "counts = pub_result.get_counts()\n",
    "\n",
    "observable = SparsePauliOp.from_list([(\"ZIIII\", 1), (\"IZIII\", 1), (\"IIZII\", 1), (\"IIIZI\", 1), (\"IIIIZ\", 1)])\n",
    "\n",
    "post_processor = POVMPostProcessor(pub_result)\n",
    "exp_value, std= post_processor.get_expectation_value(observable)\n",
    "print(\"Noisy expectation value: \", exp_value)"
   ]
  },
  {
   "cell_type": "code",
   "execution_count": 5,
   "id": "d8628802-54f7-4c7d-8a70-19c8caeb7c59",
   "metadata": {
    "editable": true,
    "slideshow": {
     "slide_type": "slide"
    },
    "tags": []
   },
   "outputs": [
    {
     "name": "stdout",
     "output_type": "stream",
     "text": [
      "Expectation value: -2.875016384761908\n"
     ]
    }
   ],
   "source": [
    "from qiskit.quantum_info import Statevector, SparsePauliOp\n",
    "\n",
    "statevector = Statevector.from_instruction(circuit)\n",
    "\n",
    "# Compute the exact expectation value\n",
    "expectation_value = statevector.expectation_value(observable)\n",
    "print(\"Expectation value:\", expectation_value.real)"
   ]
  },
  {
   "cell_type": "code",
   "execution_count": 6,
   "id": "b215f809-d1cc-40b4-93a2-403e7c460498",
   "metadata": {
    "editable": true,
    "slideshow": {
     "slide_type": "slide"
    },
    "tags": []
   },
   "outputs": [
    {
     "ename": "NameError",
     "evalue": "name 'shots' is not defined",
     "output_type": "error",
     "traceback": [
      "\u001b[31m---------------------------------------------------------------------------\u001b[39m",
      "\u001b[31mNameError\u001b[39m                                 Traceback (most recent call last)",
      "\u001b[36mCell\u001b[39m\u001b[36m \u001b[39m\u001b[32mIn[6]\u001b[39m\u001b[32m, line 4\u001b[39m\n\u001b[32m      2\u001b[39m \u001b[38;5;28;01mfor\u001b[39;00m res, count \u001b[38;5;129;01min\u001b[39;00m counts.items():\n\u001b[32m      3\u001b[39m    c = \u001b[38;5;28mtuple\u001b[39m((\u001b[38;5;28mint\u001b[39m(r) \u001b[38;5;28;01mfor\u001b[39;00m r \u001b[38;5;129;01min\u001b[39;00m res))\n\u001b[32m----> \u001b[39m\u001b[32m4\u001b[39m    probabilities[c] = count / \u001b[43mshots\u001b[49m\n",
      "\u001b[31mNameError\u001b[39m: name 'shots' is not defined"
     ]
    }
   ],
   "source": [
    "probabilities = {}\n",
    "for res, count in counts.items():\n",
    "   c = tuple((int(r) for r in res))\n",
    "   probabilities[c] = count / shots"
   ]
  },
  {
   "cell_type": "code",
   "execution_count": null,
   "id": "572cac79-90f8-4756-b374-9de742995f99",
   "metadata": {
    "editable": true,
    "slideshow": {
     "slide_type": "slide"
    },
    "tags": []
   },
   "outputs": [],
   "source": [
    "from qiskit.quantum_info import Operator, DensityMatrix\n",
    "from functools import reduce\n",
    "import operator\n",
    "\n",
    "density_matrix = None\n",
    "\n",
    "for state, prob in probabilities.items():\n",
    "    duals = [post_processor.dual[(qubit_id,)].operators[povm_id] for qubit_id, povm_id in enumerate(reversed(state))]\n",
    "    \n",
    "    # Convert to Operators\n",
    "    dual_operators = [Operator(dual) for dual in duals]\n",
    "    \n",
    "    # Compute tensor product using reduce\n",
    "    tensor_product_op = reduce(lambda a, b: a.tensor(b), dual_operators)\n",
    "    \n",
    "    # Scale and accumulate\n",
    "    if density_matrix is None:\n",
    "        density_matrix = prob * tensor_product_op\n",
    "    else:\n",
    "        density_matrix = density_matrix + prob * tensor_product_op\n",
    "\n",
    "density_matrix = DensityMatrix(density_matrix.data)\n",
    "\n",
    "# Compute expectation value\n",
    "expectation_value = density_matrix.expectation_value(observable)\n",
    "print(f\"Expectation value: {expectation_value.real}\")"
   ]
  },
  {
   "cell_type": "code",
   "execution_count": null,
   "id": "2eace7e1-b5f2-4a94-ba30-826ea0cc63eb",
   "metadata": {
    "editable": true,
    "slideshow": {
     "slide_type": "slide"
    },
    "tags": []
   },
   "outputs": [],
   "source": [
    "from utils import visualize_density_matrix\n",
    "    \n",
    "# Use the enhanced visualization\n",
    "visualize_density_matrix(density_matrix, n_qubits)"
   ]
  },
  {
   "cell_type": "markdown",
   "id": "0a7883b6-4197-4782-91ec-df0936f877d2",
   "metadata": {
    "editable": true,
    "slideshow": {
     "slide_type": "slide"
    },
    "tags": []
   },
   "source": [
    "## Category 2: Dynamic quantum circuits\n",
    "\n",
    "Dynamic quantum circuits modify the quantum state during the computation via mid-circuit measurements\n",
    "\n",
    "In the paper, we discuss:\n",
    "* State preparation using dynamic quantum circuits\n",
    "* State and gate teleportation"
   ]
  },
  {
   "cell_type": "markdown",
   "id": "e5752565-763a-4281-bc9b-6020b8eda7b4",
   "metadata": {
    "editable": true,
    "slideshow": {
     "slide_type": "slide"
    },
    "tags": []
   },
   "source": [
    "## Toffoli gate teleportation\n",
    "\n",
    "Gate teleportation generally:\n",
    "\n",
    "<center>\n",
    "<img src=\"figures/gate_teleportation.png\" alt=\"gate_teleportation\" width=\"800\">\n",
    "</center>"
   ]
  },
  {
   "cell_type": "code",
   "execution_count": null,
   "id": "e1638e72-6334-436f-ac26-17cc5571c3c3",
   "metadata": {
    "editable": true,
    "slideshow": {
     "slide_type": "slide"
    },
    "tags": []
   },
   "outputs": [],
   "source": [
    "import pennylane as qml\n",
    "import numpy as np\n",
    "\n",
    "# Get matrix for toffoli gate\n",
    "def get_toffoli_matrix():\n",
    "    return np.array(qml.Toffoli(wires=[0,1,2]).matrix())\n",
    "\n",
    "X0, X1, X2 = qml.PauliX(0), qml.PauliX(1), qml.PauliX(2)\n",
    "Z0, Z1, Z2 = qml.PauliZ(0), qml.PauliZ(1), qml.PauliZ(2)\n",
    "I0, I1, I2 = qml.Identity(0), qml.Identity(1), qml.Identity(2)\n",
    "\n",
    "basis = [Z0 @ I1 @ I2, \n",
    "        I0 @ Z1 @ I2,\n",
    "        I0 @ I1 @ Z2,\n",
    "        X0 @ I1 @ I2,\n",
    "        I0 @ X1 @ I2,\n",
    "        I0 @ I1 @ X2]\n",
    "\n",
    "results = []\n",
    "for b in basis:\n",
    "    results.append(get_toffoli_matrix() @ b.matrix() @ get_toffoli_matrix())\n",
    "    \n",
    "pauli_decomposed = []\n",
    "\n",
    "for result in results:\n",
    "    pauli_decomposed.append(qml.pauli_decompose(result, wire_order=[6, 7, 8]))\n",
    "\n",
    "for p in pauli_decomposed:\n",
    "    print(p.coeffs, p.ops)"
   ]
  },
  {
   "cell_type": "code",
   "execution_count": null,
   "id": "b98231b6-aead-433b-a6cf-bf8154d68bbe",
   "metadata": {
    "editable": true,
    "slideshow": {
     "slide_type": "slide"
    },
    "tags": []
   },
   "outputs": [],
   "source": [
    "from utils import controlled_circuit1, controlled_circuit2, controlled_circuit3, controlled_circuit4, controlled_circuit5\n",
    "\n",
    "# To visualize and debug the circuits\n",
    "@qml.qnode(dev)\n",
    "def circuit2():\n",
    "    controlled_circuit2(np.pi/2)\n",
    "    return qml.sample()\n",
    "\n",
    "qml.draw_mpl(circuit2)()"
   ]
  },
  {
   "cell_type": "code",
   "execution_count": null,
   "id": "a07fd578-30ae-4ba1-a21a-8ff28783979e",
   "metadata": {
    "editable": true,
    "slideshow": {
     "slide_type": "slide"
    },
    "tags": []
   },
   "outputs": [],
   "source": [
    "dev = qml.device(\"default.qubit\", wires=[0, 1, 2, 3, 4, 5, 6, 7, 8])\n",
    "values = np.random.rand(9)\n",
    "\n",
    "def bell_pair(source, target):\n",
    "    qml.Hadamard(wires=source)\n",
    "    qml.CNOT(wires=[source, target])\n",
    "    \n",
    "def bell_measurement(source, target):\n",
    "    qml.CNOT(wires=[source, target])\n",
    "    qml.Hadamard(wires=source)\n",
    "\n",
    "@qml.qnode(dev)\n",
    "def toffoli_teleportation():\n",
    "    # Prepare the random input state for Toffoli gate\n",
    "    \n",
    "    qml.Rot(values[0], values[1], values[2], wires=0)\n",
    "    qml.Rot(values[3], values[4], values[5], wires=1)\n",
    "    qml.Rot(values[6], values[7], values[8], wires=2)\n",
    "    \n",
    "    # Prepare Bell pairs\n",
    "    bell_pair(3, 6)\n",
    "    bell_pair(4, 7)\n",
    "    bell_pair(5, 8)\n",
    "    \n",
    "    #Prepare the Bell measurement\n",
    "    bell_measurement(0, 3)\n",
    "    bell_measurement(1, 4)\n",
    "    bell_measurement(2, 5)\n",
    "    \n",
    "    # Perform the Toffoli gate on the output qubits\n",
    "    qml.Toffoli(wires=[6, 7, 8])\n",
    "    \n",
    "    # Perform the Bell measurement\n",
    "    m0 = qml.measure([0], reset=True)\n",
    "    m1 = qml.measure([1], reset=True)\n",
    "    m2 = qml.measure([2], reset=True)\n",
    "    a0 = qml.measure([3], reset=True)\n",
    "    a1 = qml.measure([4], reset=True)\n",
    "    a2 = qml.measure([5], reset=True)\n",
    "    \n",
    "    glob_coeff = np.pi/2\n",
    "    qml.cond(m0, controlled_circuit1)([6], coeff=2*glob_coeff)\n",
    "    qml.cond(m1, controlled_circuit1)([7], coeff=2*glob_coeff)\n",
    "    qml.cond(m2, controlled_circuit2)(coeff=glob_coeff)\n",
    "    qml.cond(a0, controlled_circuit3)(coeff=glob_coeff)\n",
    "    qml.cond(a1, controlled_circuit4)(coeff=glob_coeff)\n",
    "    qml.cond(a2, controlled_circuit5)(coeff=2*glob_coeff)\n",
    "    \n",
    "    return qml.density_matrix(wires=[6, 7, 8])"
   ]
  },
  {
   "cell_type": "code",
   "execution_count": null,
   "id": "4be0b98f-7bf8-498e-8bda-29e9933241bb",
   "metadata": {
    "editable": true,
    "slideshow": {
     "slide_type": "slide"
    },
    "tags": []
   },
   "outputs": [],
   "source": [
    "qml.draw_mpl(toffoli_teleportation)()"
   ]
  },
  {
   "cell_type": "code",
   "execution_count": null,
   "id": "9f3a7c18-6393-490f-b09d-e1c89f1514df",
   "metadata": {
    "editable": true,
    "slideshow": {
     "slide_type": "slide"
    },
    "tags": []
   },
   "outputs": [],
   "source": [
    "results = toffoli_teleportation()\n",
    "\n",
    "dev = qml.device(\"default.qubit\", wires=[0, 1, 2])\n",
    "@qml.qnode(dev)\n",
    "def toffoli_teleportation2():\n",
    "    qml.Rot(values[0], values[1], values[2], wires=0)\n",
    "    qml.Rot(values[3], values[4], values[5], wires=1)\n",
    "    qml.Rot(values[6], values[7], values[8], wires=2)\n",
    "    qml.Toffoli(wires=[0, 1, 2])\n",
    "    return qml.density_matrix(wires=[0, 1, 2])\n",
    "\n",
    "#print(toffoli_teleportation2())\n",
    "\n",
    "# Compare that the density matrix from the teleportation circuit is \n",
    "# the same as the one when the Toffoli gate is applied directly\n",
    "print(np.allclose(results, toffoli_teleportation2()))"
   ]
  },
  {
   "cell_type": "markdown",
   "id": "dcf958bd-c25e-45b5-9b88-1136867b04b4",
   "metadata": {
    "editable": true,
    "slideshow": {
     "slide_type": "slide"
    },
    "tags": []
   },
   "source": [
    "## Measurements as solutions to challenges in NISQ devices\n",
    "\n",
    "In the paper, we discuss:\n",
    "\n",
    "1. Quantum hardware scalability problem: Circuit cutting\n",
    "2. Quantum hardware error problem: Quantum error mitigation\n",
    "\n",
    "#### Circuit cutting\n",
    "<center>\n",
    "<img src=\"figures/circuit_cutting_1.png\" alt=\"circuit_cutting_1\" width=\"400\">\n",
    "<img src=\"figures/circuit_cutting_2.png\" alt=\"circuit_cutting_2\" width=\"400\">\n",
    "</center>"
   ]
  },
  {
   "cell_type": "markdown",
   "id": "f85dee74-6f3a-4864-bff2-4162edadb3a3",
   "metadata": {
    "editable": true,
    "slideshow": {
     "slide_type": "slide"
    },
    "tags": []
   },
   "source": [
    "## Example on error mitigation connecting to the IC-POVM example\n",
    "\n",
    "<center>\n",
    "<img src=\"figures/TEM.png\" alt=\"gate_teleportation\" width=\"800\">\n",
    "</center>"
   ]
  },
  {
   "cell_type": "markdown",
   "id": "2f0e8edc-d7e9-4f02-84c7-47f1d7148085",
   "metadata": {
    "editable": true,
    "slideshow": {
     "slide_type": "slide"
    },
    "tags": []
   },
   "source": [
    "## Conclusion and future work\n",
    "\n",
    "In this work, we review measurement operation use cases and divide them into three categories:\n",
    "1. Static quantum circuits (Code demo: Recovering a density matrix)\n",
    "2. Dynamic quantum circuits (Code demo: Toffoli gate teleportation)\n",
    "3. Measurements as solutions to quantum computational challenges\n",
    "\n",
    "Concluding\n",
    "1. Measuring creates challenges but also possibilities to improve the performance of your algorithms.\n",
    "2. Measurement is not only a passive ''quantum return statement'' at the end\n",
    "\n",
    "In future work, we will pay attention to measurements in our algorithms and extend the paper."
   ]
  },
  {
   "cell_type": "markdown",
   "id": "ef0d268a-b2fb-4a79-8161-e03d6e368f1c",
   "metadata": {
    "editable": true,
    "slideshow": {
     "slide_type": "slide"
    },
    "tags": []
   },
   "source": [
    "# Thank you!"
   ]
  }
 ],
 "metadata": {
  "kernelspec": {
   "display_name": "Python 3 (ipykernel)",
   "language": "python",
   "name": "python3"
  },
  "language_info": {
   "codemirror_mode": {
    "name": "ipython",
    "version": 3
   },
   "file_extension": ".py",
   "mimetype": "text/x-python",
   "name": "python",
   "nbconvert_exporter": "python",
   "pygments_lexer": "ipython3",
   "version": "3.12.6"
  },
  "rise": {
   "theme": "sky"
  }
 },
 "nbformat": 4,
 "nbformat_minor": 5
}
